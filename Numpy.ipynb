{
  "nbformat": 4,
  "nbformat_minor": 0,
  "metadata": {
    "colab": {
      "provenance": [],
      "authorship_tag": "ABX9TyN3IC6OxeMbKR4BG7NWFU3T",
      "include_colab_link": true
    },
    "kernelspec": {
      "name": "python3",
      "display_name": "Python 3"
    },
    "language_info": {
      "name": "python"
    }
  },
  "cells": [
    {
      "cell_type": "markdown",
      "metadata": {
        "id": "view-in-github",
        "colab_type": "text"
      },
      "source": [
        "<a href=\"https://colab.research.google.com/github/mhtattersall/NumPy/blob/main/Numpy.ipynb\" target=\"_parent\"><img src=\"https://colab.research.google.com/assets/colab-badge.svg\" alt=\"Open In Colab\"/></a>"
      ]
    },
    {
      "cell_type": "code",
      "execution_count": 2,
      "metadata": {
        "id": "rIEbfZRyT5GC"
      },
      "outputs": [],
      "source": [
        "# !pip install numpy\n",
        "import numpy as np"
      ]
    },
    {
      "cell_type": "code",
      "source": [
        "# creating arrays\n",
        "# only 1 data type allowed in numpy arrays\n",
        "a = np.array([1,2,3], dtype=int) # 1D array or vector\n",
        "b = np.array([(1.5,2,3), (4,5,6)], dtype = float) # 2D array or matrix\n",
        "c = np.array([[(1.5,2,3), (4,5,6)],[(3,2.5,1), (4,5,6)]], dtype=float) # 3D array or tensor\n",
        "print(\"ID array:\",a)\n",
        "print(\"2D array:\",b)\n",
        "print(\"3D array:\",c)\n",
        "my_list = [1,-2,3,5]\n",
        "my_array = np.array(my_list) # convert a list into an array\n",
        "# np.array() converts a list, tuple or an array-like object to an array\n",
        "print(my_array)\n",
        "print(type(my_array))"
      ],
      "metadata": {
        "id": "dZvHwE0YUBDz",
        "colab": {
          "base_uri": "https://localhost:8080/"
        },
        "outputId": "b3c46c27-82f4-4455-bc49-dc1f6416f1dd"
      },
      "execution_count": 2,
      "outputs": [
        {
          "output_type": "stream",
          "name": "stdout",
          "text": [
            "ID array: [1 2 3]\n",
            "2D array: [[1.5 2.  3. ]\n",
            " [4.  5.  6. ]]\n",
            "3D array: [[[1.5 2.  3. ]\n",
            "  [4.  5.  6. ]]\n",
            "\n",
            " [[3.  2.5 1. ]\n",
            "  [4.  5.  6. ]]]\n",
            "[ 1 -2  3  5]\n",
            "<class 'numpy.ndarray'>\n"
          ]
        }
      ]
    },
    {
      "cell_type": "code",
      "source": [
        "# 0-dim arrays, or scalars, are the elements in an array.\n",
        "# np.array(42) # create a 0-dim array with a single scalar.  Note only use parentheses."
      ],
      "metadata": {
        "id": "vemfQ4ecWulb"
      },
      "execution_count": 3,
      "outputs": []
    },
    {
      "cell_type": "code",
      "source": [
        "# initial placeholders\n",
        "f = np.zeros((3,4)) # create an array of zeros\n",
        "g = np.ones((2,3,4),dtype=np.int16) # create an array of ones\n",
        "h = np.arange(10,25,5) # create an array of evenly spaced values (step value)\n",
        "i = np.linspace(0,2,9) # create an array of evenly-spaced values over a specified range (number of samples)\n",
        "j = np.full((2,2),7) # create a constant array\n",
        "k = np.eye(2) # create a 2X2 identity matrix, eye gives more options than identity method\n",
        "l = np.identity(3) # creates a 3x3 identity matrix\n",
        "m = np.random.random((2,2)) # create an array of a given shape with random values between 0 (inclusive) and 1 (exclusive) # same as np.random.rand\n",
        "mm = np.random.random((2,2))*10 # as above, but random values between 0 (inclusive) and 10 (exclusive)\n",
        "n = np.empty((3,2)) # create an empty array\n",
        "o = np.random.uniform(low=1,high=3,size=(2,3)) # generate a random values in a specified interval to a specified size\n",
        "rng = np.random.default_rng() # create a default random number generator, this is an API and is recommemded for samples\n",
        "p = rng.random(size=(2,3)) # call the random number generator\n",
        "q = np.random.choice([0,1],size=20) # create an array with a random sample from a given 1-D array, ints by default\n",
        "r = np.random.choice(np.arange(10,20,2),20) # create an array with 20 numbers from a random sample of 10,12,14,16,18\n",
        "s = np.random.randint(0, 5, (3, 4)) # a random choices of ints from 0 (inclusive) to 5 (exclusive) in a given array shape\n",
        "t = np.random.randn(5) # generate 1x5 random numbers from a standard normal distribution (mean 0, standard deviation 1)\n",
        "u = np.random.ranf(size=(5,4)) # create a 5x4 matrix with random floats in the half open interval [0.0,1.0)\n",
        "v = np.random.normal(1, 2, (3, 4))  # Creates a 3x4 array of random samples from a normal distribution with mean 1 and sd 2.\n",
        "# np.random.seed(0) # set random seed for replication of data (otherwise random numbers based on current time)\n",
        "print(\"3x4 array of zeros:\",f)\n",
        "print(\"2x3x4 arrrays of ones\",g)\n",
        "print(\"evenly-spaced values from 10 to 25 (exclusive) with step of 5:\",h)\n",
        "print(\"evenly-spaced values from 0 to 2 (inclusive) with 9 elements:\",i)\n",
        "print(\"2x2 arrays of constants:\",j)\n",
        "print(\"2x2 identity matrix\",k)\n",
        "print(\"3x3 identity matrix\",l)\n",
        "print(\"2x2 array of random values between 0 (inclusive) and 1 (exclusive):\",m)\n",
        "print(\"2x2 array of random values between 0 (inclusive) and 10 (exclusive):\",mm)\n",
        "print(\"3x2 empty array:\",n)\n",
        "print(\"2x3 matrix with random values between 1 and 3:\",o)\n",
        "print(\"2x3 matrix with numpy API random number generator:\",p)\n",
        "print(\"a random sample of 0 or 1 over 20 times:\",q)\n",
        "print(\"a random sample from an array from 10 to 20 (exclusive), with a stride of 2, 20 times:\",r)\n",
        "print(\"3x4 matrix with a random sample of ints from 0 to 4:\",s)\n",
        "print(\"a random sample of 5 numbers from a standard normal distribution:\",t)\n",
        "print(\"5x4 matrix with random floats between 0 (inclusive) and 1 (exclusive):\",u)\n",
        "print(\"a random sample in a 3x4 matrix from a specified normal distribution:\",v)"
      ],
      "metadata": {
        "id": "FNVQvWJBXI4d",
        "colab": {
          "base_uri": "https://localhost:8080/"
        },
        "outputId": "6d27e447-8439-4b84-f24a-3ae0fb15f1eb"
      },
      "execution_count": 4,
      "outputs": [
        {
          "output_type": "stream",
          "name": "stdout",
          "text": [
            "3x4 array of zeros: [[0. 0. 0. 0.]\n",
            " [0. 0. 0. 0.]\n",
            " [0. 0. 0. 0.]]\n",
            "2x3x4 arrrays of ones [[[1 1 1 1]\n",
            "  [1 1 1 1]\n",
            "  [1 1 1 1]]\n",
            "\n",
            " [[1 1 1 1]\n",
            "  [1 1 1 1]\n",
            "  [1 1 1 1]]]\n",
            "evenly-spaced values from 10 to 25 (exclusive) with step of 5: [10 15 20]\n",
            "evenly-spaced values from 0 to 2 (inclusive) with 9 elements: [0.   0.25 0.5  0.75 1.   1.25 1.5  1.75 2.  ]\n",
            "2x2 arrays of constants: [[7 7]\n",
            " [7 7]]\n",
            "2x2 identity matrix [[1. 0.]\n",
            " [0. 1.]]\n",
            "3x3 identity matrix [[1. 0. 0.]\n",
            " [0. 1. 0.]\n",
            " [0. 0. 1.]]\n",
            "2x2 array of random values between 0 (inclusive) and 1 (exclusive): [[0.94587156 0.03488253]\n",
            " [0.12853863 0.39130659]]\n",
            "2x2 array of random values between 0 (inclusive) and 10 (exclusive): [[2.79379716 9.60883081]\n",
            " [3.67813039 1.80780689]]\n",
            "3x2 empty array: [[1.5 2. ]\n",
            " [3.  4. ]\n",
            " [5.  6. ]]\n",
            "2x3 matrix with random values between 1 and 3: [[2.28836757 2.36920081 2.72183156]\n",
            " [1.07578427 1.63258422 1.02056632]]\n",
            "2x3 matrix with numpy API random number generator: [[0.42511631 0.17354668 0.85522167]\n",
            " [0.1548924  0.70314647 0.65294453]]\n",
            "a random sample of 0 or 1 over 20 times: [1 0 0 1 0 1 0 0 1 1 1 0 0 0 1 1 0 1 0 0]\n",
            "a random sample from an array from 10 to 20 (exclusive), with a stride of 2, 20 times: [14 16 14 14 10 10 12 14 10 12 14 12 12 16 12 14 18 14 18 16]\n",
            "3x4 matrix with a random sample of ints from 0 to 4: [[2 2 0 1]\n",
            " [2 3 0 1]\n",
            " [4 0 4 3]]\n",
            "a random sample of 5 numbers from a standard normal distribution: [ 0.40391645 -0.91156838 -1.51020028 -0.91577839 -0.91596773]\n",
            "5x4 matrix with random floats between 0 (inclusive) and 1 (exclusive): [[0.18732282 0.14191557 0.42788917 0.81369813]\n",
            " [0.41979958 0.31073064 0.09076072 0.91757816]\n",
            " [0.74813249 0.07190545 0.10216538 0.81750823]\n",
            " [0.22412131 0.12448642 0.21061191 0.03924267]\n",
            " [0.97472025 0.067432   0.58873654 0.55212618]]\n",
            "a random sample in a 3x4 matrix from a specified normal distribution: [[-2.48615497  0.93845667  0.08987755  2.52893914]\n",
            " [ 3.40699557  4.37316617 -2.53404396  1.00128272]\n",
            " [-0.94361936  3.99890037  0.20649173 -4.01945477]]\n"
          ]
        }
      ]
    },
    {
      "cell_type": "code",
      "source": [
        "# saving and loading on disk\n",
        "# np.save('my_array.npy', a) # saves a NumPy array 'a' to a file named 'my_array.npy' i.e. a binary file in .npy format in the current working directory\n",
        "# loaded_array = np.load('my_array.npy') # load the array from the file\n",
        "# np.savez('array.npz', a, b) # saves multiple arrays into a single file in compressed .npz format\n",
        "# loaded_data = np.load('array.npz') # Load the arrays from the file\n",
        "# Access the arrays using their variable names:\n",
        "# loaded_a = loaded_data['a']\n",
        "# loaded_b = loaded_data['b']\n",
        "# Print the loaded arrays:\n",
        "# print(\"Loaded 'a':\\n\", loaded_a)\n",
        "# print(\"\\nLoaded 'b':\\n\", loaded_b)"
      ],
      "metadata": {
        "id": "yKNqw-s8YdMv"
      },
      "execution_count": null,
      "outputs": []
    },
    {
      "cell_type": "code",
      "source": [
        "# np.loadtxt(\"myfile.txt\",delimiter=\",\") # saving and loading text files\n",
        "# this assume the data in the text file is formatted so it can be interpreted as a 2D array\n",
        "# each line in the text file corresponds to a row in the array\n",
        "# values on each line should be separated by a delimiter (whitespace is default)\n",
        "# np.genfromtxt(\"my_file.csv\", delimiter= ',') # similar to np.loadtext, this can handle missing value, different data types and more complex data structures\n",
        "# np.savetxt( \"myarray.txt\", a, delimiter= \" \") # saves an array to a text file"
      ],
      "metadata": {
        "id": "-nMEGoUMYxiN"
      },
      "execution_count": null,
      "outputs": []
    },
    {
      "cell_type": "code",
      "source": [
        "# inpsecting arrays\n",
        "# np.info(b) # prints array info: class, shape, strides, itemsize, aligned, contiguous, fortran, data pointer, byteorder, byteswap\n",
        "# b.shape # tuple of array dimensions\n",
        "# print(len(a)) # length of 1D array\n",
        "# c.ndim # number of array dimensions or axes\n",
        "# c.size # number of array elements\n",
        "# b.dtype  # data type of array elements\n",
        "# a.dtype.name  # name of data type\n",
        "# a.astype(int) # convert an array to a different type, arrays only accept the same data types"
      ],
      "metadata": {
        "id": "A8YadRs6ZIBF"
      },
      "execution_count": null,
      "outputs": []
    },
    {
      "cell_type": "code",
      "source": [
        "# data types\n",
        "# np.int64 # signed 64-bit integer types\n",
        "# np.float32 # standard double-precision floating point\n",
        "# np.complex # complex numbers represented by 128 floats\n",
        "# np.bool # boolean type storing TRUE and FALSE values\n",
        "# np.object # python object type\n",
        "# np.string_ # fixed-length string type\n",
        "# np.unicode_ # fixed-length unicode type"
      ],
      "metadata": {
        "id": "Kk5YKtjCZt-q"
      },
      "execution_count": null,
      "outputs": []
    },
    {
      "cell_type": "code",
      "source": [
        "# arithmetic operations and aggregate functions\n",
        "# we can also pass lists to some of these functions\n",
        "# artihmetic operations are elementwise, so if performing operations with 2 arrays they must be the same shape or be capabale of being broadcast to same shape\n",
        "# Example: (broadcasting)\n",
        "large = np.array([[1, 2, 3],[4, 5, 6],[7, 8, 9]])\n",
        "small = np.array([10, 20, 30])\n",
        "result = large + small\n",
        "print(result)\n",
        "# this allows arithmetic operations to be performed with a scalar (see below)\n",
        "# Further example:\n",
        "aa = np.ones(10)\n",
        "aa[:] = 2 # creates a slice, which is a view, not a copy (see below)\n",
        "print(aa)\n",
        "x = np.array([2,3,4])\n",
        "y = np.array([4,6,-1])\n",
        "# z = x - y # subtraction\n",
        "# z = np.subtract(x,y)\n",
        "# z = x + y # addition\n",
        "# z = np.add(x,y)\n",
        "# z = x / y # division\n",
        "# z = np.divide(x,y)\n",
        "# z = x * y # multiplication\n",
        "# z = np.multiply(x,y)\n",
        "# z = np.exp(x) # elementwise exponential function\n",
        "# z = np.sqrt(x) # elementwise square root\n",
        "# z = np.sin(x)  # elementwise sine, input array in radians ie. np.pi\n",
        "# z = np.cos(x) # elementwise cosine. input array in radians ie np.pi\n",
        "# z = np.log(x) # elementwise natural logarithm\n",
        "# z = x.dot(y.T) # dot product of x,y - inner dimensions must match\n",
        "# z = np.power(x,2) # elementwise to specified power\n",
        "# z = x ** y # elementwise power\n",
        "# z = x.sum() # arraywise sum\n",
        "# z = x.min() # arraywise minimum value\n",
        "# z = b.max(axis=1) #arraywise maximum value axis=1 is along rows, axis=0 is along cols\n",
        "# z = x.argmax() # returns index position of max value\n",
        "# z = x.cumsum() #arraywise cumulative of elements\n",
        "# z = x.mean() # arraywise mean\n",
        "# z = np.median(x) # arraywise median\n",
        "# z = np.std(x, ddof=1) # arrayswise sample standard deviation, population sd is ddof=0\n",
        "# z = x * 1.5 # multiply all elements with a scalar\n",
        "# z = x + 1.1 # adds to all elements and makes them floats\n",
        "# z = np.abs() # retuns the absolute number of each element\n",
        "# z = np.ceil() # increments every float element to the next highest integer\n",
        "# z = np.floor() # increments every float element to the next lowest integer"
      ],
      "metadata": {
        "id": "NDirtYq8aDVE",
        "colab": {
          "base_uri": "https://localhost:8080/"
        },
        "outputId": "bbba9a84-ed84-4add-9a63-e4b239a3c173"
      },
      "execution_count": 3,
      "outputs": [
        {
          "output_type": "stream",
          "name": "stdout",
          "text": [
            "[[11 22 33]\n",
            " [14 25 36]\n",
            " [17 28 39]]\n",
            "[2. 2. 2. 2. 2. 2. 2. 2. 2. 2.]\n"
          ]
        }
      ]
    },
    {
      "cell_type": "code",
      "source": [
        "# array comparison\n",
        "# x == y # elementwise comparison, returns booleans\n",
        "# x < 2 # elementwise comparison, returns booleans\n",
        "# np.array_equal(x, y) # arraywise comparison"
      ],
      "metadata": {
        "id": "Zs2GpBvxbzgN"
      },
      "execution_count": 6,
      "outputs": []
    },
    {
      "cell_type": "code",
      "source": [
        "# views and copying arrays\n",
        "b = a[0:2] # slicing creates a view, not a copy (different behaviour to lists)\n",
        "b = a.view() # create a view of the array with the same data\n",
        "# view doesn't create a new copy, it creates a new array variable object that references the same data in memory.\n",
        "# modifying a view also modifies the original array\n",
        "b = np.copy(a) # create a deep copy of the array\n",
        "# copy creates a new memory reference with its own data\n",
        "# print(id(a),id(b)) # to check memory references"
      ],
      "metadata": {
        "id": "NbyY7wowcP2l"
      },
      "execution_count": 7,
      "outputs": []
    },
    {
      "cell_type": "code",
      "source": [
        "# index and slicing (slicing creates a view - see above)\n",
        "a = np.array([1,-2,5]) # 1D array\n",
        "b = np.array([(1.5,2,3), (4,5,6)], dtype = float) # 2D array\n",
        "c = np.array([[(1.5,2,3), (4,5,6)],[(3,2.5,1), (4,5,6)]], dtype = float) # 3D array\n",
        "# d = a[2].copy() # select the element at index 2 and create a new object in memory\n",
        "# a[:] = 2 # select all and broadcast all elements to the value 2\n",
        "# a[-2] # select last second last element\n",
        "# a[-2:] # select last 2 elements\n",
        "# a[1:] # select all elements except the first\n",
        "# a[0:2] # select elements at index 0 (inclusive) to index 2 (exclusive)\n",
        "# b[1][0] # select element at row 1, col 0\n",
        "# b[1,0] # select element at row 1, col 0\n",
        "# c[1][0][1] # select element at dim 1, row 0, col 1\n",
        "# c[1,0,1] # select element at dim 1, row 0, col 1\n",
        "# b[0:2,1] # select elements at rows 0 and 1 in column 1\n",
        "# b[:1] # select elements in row 0\n",
        "# b[0] # select row 0\n",
        "# b[1] # select row 1\n",
        "# b[:,0] # select elements in col 0\n",
        "# b[:,1] # select elemments in col 1\n",
        "# b[:,-1] # select elemments in last col\n",
        "# b[:,[0, 2]] # select first and third columnns\n",
        "# c[1,...] # select elements in dim 1\n",
        "# a[::-1] #reverse an array\n",
        "# b[[1,0,1, 0],[0,1, 2, 0]]  # select with coordinates for rows and cols i.e (1,0),(0,1),(1,2) and(0,0)\n",
        "# b[[1,0,1, 0]][:,[0,1,2,0]] # select a subset of the matrix rows and columns\n",
        "# the first part selects rows, second part selects cols, returns a 4x4 array\n"
      ],
      "metadata": {
        "id": "OuUnbU3BdBC3"
      },
      "execution_count": 4,
      "outputs": []
    },
    {
      "cell_type": "code",
      "source": [
        "# conditionals (masks)\n",
        "# d = a<0 # select elements less than 0, returns a boolean array (a<2 is a boolean mask)\n",
        "# assign the mask as a variable and pass this as a filter mask1 = a<0, negative = a[mask1]\n",
        "# can create multiple filtering masks and use bitwise operators & (AND)|(OR)~(NOT)\n",
        "# z[a<0] returns an array (not a boolean) which meets the conditional\n",
        "# a[mask1|mask2] returns an array (not a boolean) which meets either filter\n",
        "# Example:\n",
        "mask1 = a<0\n",
        "mask2 = a>4\n",
        "d = a[mask1|mask2]\n",
        "print(d)"
      ],
      "metadata": {
        "id": "AxblgkkwyHsm",
        "colab": {
          "base_uri": "https://localhost:8080/"
        },
        "outputId": "b42c5fcd-27a6-45ab-b25b-8eb665613350"
      },
      "execution_count": 10,
      "outputs": [
        {
          "output_type": "execute_result",
          "data": {
            "text/plain": [
              "array([-2,  5])"
            ]
          },
          "metadata": {},
          "execution_count": 10
        }
      ]
    },
    {
      "cell_type": "code",
      "source": [
        "# array manipulation\n",
        "# arrays are mutable objects\n",
        "# a[0] = -2 # assign a new value to the first element\n",
        "# a[2,3] = np.NaN # assign element at index to be 'Not a Number'\n",
        "# a[1:] = 2 # change all elements after the first to 2 (broadcasting)\n",
        "# d = a.copy() # copy an array to create a new object in memory, otherwise changes are inplace (different to lists)\n",
        "a = np.array([1,2,-3])\n",
        "b = np.array([(1.5,2,3), (4,1,6)], dtype = float)\n",
        "# c = np.transpose(b) # transpose\n",
        "# c = b.T # transpose\n",
        "# c = b.ravel() # flatten the array to 1D, without creating a new memory reference\n",
        "# c = b.flatten() # flatten the array to 1D, and creates a new memory reference\n",
        "# c = b.reshape(3, -2) # reshape to 3x2, doesn’t change data, -2 tells numpy to automatically calculate the size of the second dimension\n",
        "# a.resize(3,1) # resizes the array inplace of the original\n",
        "# c = np.insert(a,1,5) # insert the value 5 at index 1\n",
        "# c = np.delete(a,[1]) # delete the item at index 1\n",
        "# c = a[np.newaxis,:] # add a new dim or axis to an array\n",
        "# c = np.expand_dims(a, axis=0) # add a new dim or axis to an array\n",
        "# a.sort() # sort an array inplace, doesn't create a new memory object\n",
        "# b.sort(axis=0) # sort the elements of an array on row axis inplace\n",
        "# a.round(2) # round each element to 2 decimal places\n",
        "# Example: (quickly create a 2-dim array)\n",
        "c = np.arange(0,9)\n",
        "d = c.reshape(3,3)\n",
        "print(d)\n",
        "# Example: (add a shorter to a longer using a for loop and empty_like())\n",
        "array_a = np.array([(0,0,0),(1,1,1),(2,2,2),(3,3,3)])\n",
        "array_b = np.array([1,1,-1])\n",
        "answer = np.empty_like(array_a)\n",
        "for i, row in enumerate(array_a):\n",
        "    print(i,row)\n",
        "    answer[i] = row + array_b\n",
        "print(answer)\n",
        "# Example: (create a checkerboard)\n",
        "z = np.zeros((8,8), dtype=int)\n",
        "z[1::2, ::2] = 1 # slice each row starting at 1, stride 2 and assign the values to 1\n",
        "z[::2, 1::2] = 1 # slice each col starting at 1, stride 2 and assign values to 1\n",
        "print(z)"
      ],
      "metadata": {
        "id": "O9H889bieOuz",
        "colab": {
          "base_uri": "https://localhost:8080/"
        },
        "outputId": "02a57b71-23b4-4d0f-fc52-7b4aafbae702"
      },
      "execution_count": 11,
      "outputs": [
        {
          "output_type": "stream",
          "name": "stdout",
          "text": [
            "[[0 1 2]\n",
            " [3 4 5]\n",
            " [6 7 8]]\n",
            "0 [0 0 0]\n",
            "1 [1 1 1]\n",
            "2 [2 2 2]\n",
            "3 [3 3 3]\n",
            "[[ 1  1 -1]\n",
            " [ 2  2  0]\n",
            " [ 3  3  1]\n",
            " [ 4  4  2]]\n",
            "[[0 1 0 1 0 1 0 1]\n",
            " [1 0 1 0 1 0 1 0]\n",
            " [0 1 0 1 0 1 0 1]\n",
            " [1 0 1 0 1 0 1 0]\n",
            " [0 1 0 1 0 1 0 1]\n",
            " [1 0 1 0 1 0 1 0]\n",
            " [0 1 0 1 0 1 0 1]\n",
            " [1 0 1 0 1 0 1 0]]\n"
          ]
        }
      ]
    },
    {
      "cell_type": "code",
      "source": [
        "# combining and splitting arrays\n",
        "a = np.array([1,2,3]) # 1D array\n",
        "b = np.array([(1.5,2,3),(4,5,6)], dtype = float) # 2D array\n",
        "c = np.array([(7,8,9),(-1,-2,-3)], dtype = float)\n",
        "d = np.array([(1.5,2,3,-1),(4,5,6,-2)], dtype = float) # 2D array\n",
        "# e = np.append(b,a) # concatenate 2 arrays, resulting in a new flattened array\n",
        "# e = np.concatenate((b,c),axis=0) # concatenate arrays with matching dimensions to create a new array, specify axis to concatenate along axis=0 is rows, axis=1 is cols\n",
        "# e = np.vstack((b,c)) # stack arrays vertically (row wise)\n",
        "# np.r_[b,c] # stack arrays vertically (row wise)\n",
        "# e = np.hstack((b,c)) # stack arrays horizontally (column wise)\n",
        "# e = np.column_stack((b,c)) # create stacked column wise arrays\n",
        "# e = np.c_[b,c] # create stacked column wise arrays\n",
        "# splitting arrays\n",
        "# e,f = np.hsplit(d,2) # split the array horizontally into 2 sub arrays\n",
        "# e,f = np.vsplit(d,2) # split the array vertically into 2 sub arrays"
      ],
      "metadata": {
        "id": "y2q4ZU1ge5H5"
      },
      "execution_count": 12,
      "outputs": []
    },
    {
      "cell_type": "code",
      "source": [
        "# np.where() and np.extract() are used for conditional operations on arrays\n",
        "# np.where() returns element index\n",
        "# np.extract() returns the element\n",
        "# Example:\n",
        "arr_2d = np.array([[1, 2, 3],[4, 5, 6],[7, 8, 9]])\n",
        "indices = np.where(arr_2d > 5) # Use np.where to find the indices where a condition is met\n",
        "print(\"index arrays:\",indices) # the values greater than 5 in the 2D array are found at the positions (1,2), (2,0), (2,1) and (2,2)\n",
        "values_at_indices = arr_2d[indices] # Access the values at those indices\n",
        "print(\"values at indices:\",values_at_indices)\n",
        "extracted_values = np.extract(arr_2d > 5, arr_2d)\n",
        "print(\"extracted values:\",extracted_values)\n",
        "# Example: (delete with reference to indices)\n",
        "arr_1d = np.array([0,0,0,2,4,6,6])\n",
        "indices = np.where(arr_1d == 0)\n",
        "answer = np.delete(arr_1d,indices)\n",
        "print(answer)"
      ],
      "metadata": {
        "id": "9mZpDdjpSB9q",
        "colab": {
          "base_uri": "https://localhost:8080/"
        },
        "outputId": "802bfd5c-fdfc-4d99-a442-f16597025e89"
      },
      "execution_count": 13,
      "outputs": [
        {
          "output_type": "stream",
          "name": "stdout",
          "text": [
            "index arrays: (array([1, 2, 2, 2]), array([2, 0, 1, 2]))\n",
            "values at indices: [6 7 8 9]\n",
            "extracted values: [6 7 8 9]\n",
            "[2 4 6 6]\n"
          ]
        }
      ]
    },
    {
      "cell_type": "code",
      "source": [
        "# payback period with np.where()\n",
        "cf = np.array([-200,20,50,70,100,50]) # array of cashflows\n",
        "# np.where(cf.cumsum() >0) # calculate cumsum on the cf array, and identify the index positions which satisfy the condition >0\n",
        "# np.where(cf.cumsum()>0)[0][0] # identify the first index position where cumsum is positive. Second [0] indicates first index position\n",
        "np.where(cf.cumsum()>0, \"Break-even\",\"Not break-even\") # return strings if condition met, or if condition not met"
      ],
      "metadata": {
        "id": "ljPtHNQzvkc-",
        "colab": {
          "base_uri": "https://localhost:8080/"
        },
        "outputId": "6e748d01-9bf0-46f5-d655-95c71ec4d63a"
      },
      "execution_count": 19,
      "outputs": [
        {
          "output_type": "execute_result",
          "data": {
            "text/plain": [
              "array(['Not break-even', 'Not break-even', 'Not break-even',\n",
              "       'Not break-even', 'Break-even', 'Break-even'], dtype='<U14')"
            ]
          },
          "metadata": {},
          "execution_count": 19
        }
      ]
    },
    {
      "cell_type": "code",
      "source": [
        "# npv using arrays\n",
        "cf = np.array([-200,20,50,70,100,50]) # array of cashflows\n",
        "r = 0.06\n",
        "f = 1 + r\n",
        "n = np.arange(0,6)\n",
        "pv_array = cf/f**n\n",
        "npv = pv_array.sum()\n",
        "npv"
      ],
      "metadata": {
        "id": "fzTESY1Cxdsb",
        "colab": {
          "base_uri": "https://localhost:8080/"
        },
        "outputId": "e282402c-b536-40a3-92e5-f9d559f34a97"
      },
      "execution_count": 15,
      "outputs": [
        {
          "output_type": "execute_result",
          "data": {
            "text/plain": [
              "38.71337130837991"
            ]
          },
          "metadata": {},
          "execution_count": 15
        }
      ]
    }
  ]
}